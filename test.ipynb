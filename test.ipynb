{
 "cells": [
  {
   "cell_type": "code",
   "execution_count": 1,
   "id": "05860d73",
   "metadata": {},
   "outputs": [],
   "source": [
    "import requests"
   ]
  },
  {
   "cell_type": "code",
   "execution_count": 5,
   "id": "7c173a34",
   "metadata": {},
   "outputs": [
    {
     "data": {
      "text/plain": [
       "{'ip': '141.124.14.14',\n",
       " 'text': 'this is some text ',\n",
       " 'sentiment': 'positive',\n",
       " 'user_id': 'anos@email.com'}"
      ]
     },
     "execution_count": 5,
     "metadata": {},
     "output_type": "execute_result"
    }
   ],
   "source": [
    "url=\"http://127.0.0.1:8000/get_sentiment/this%20is%20some%20text%20,141.124.14.14?user_id=anos%40email.com\"\n",
    "response=requests.get(url=url)\n",
    "\n",
    "response.json()"
   ]
  },
  {
   "cell_type": "code",
   "execution_count": 7,
   "id": "2994852b",
   "metadata": {},
   "outputs": [
    {
     "data": {
      "text/plain": [
       "{'ip': '141.124.14.14',\n",
       " 'text': 'this is some text ',\n",
       " 'sentiment': 'positive',\n",
       " 'user_id': 'email@email.com'}"
      ]
     },
     "execution_count": 7,
     "metadata": {},
     "output_type": "execute_result"
    }
   ],
   "source": [
    "url=\"http://127.0.0.1:8000/get_sentiment/this%20is%20some%20text%20,141.124.14.14?user_id=anos%40email.com\"\n",
    "params={\n",
    "    \"user_id\":\"email@email.com\"\n",
    "}\n",
    "\n",
    "response=requests.get(url=url,params=params)\n",
    "\n",
    "response.json()"
   ]
  },
  {
   "cell_type": "code",
   "execution_count": 9,
   "id": "0d78a7f9",
   "metadata": {},
   "outputs": [
    {
     "data": {
      "text/plain": [
       "{'ip': '192.168.1.1',\n",
       " 'text': 'this really good',\n",
       " 'sentiment': 'normal',\n",
       " 'user_id': 'smth@gmal.com'}"
      ]
     },
     "execution_count": 9,
     "metadata": {},
     "output_type": "execute_result"
    }
   ],
   "source": [
    "url=\"http://127.0.0.1:8000/get_twitter_sentiment?text=smth&ip=3453&user_id=smth\"\n",
    "\n",
    "params={\n",
    "    \"text\": \"this really good\"\n",
    "    ,\"ip\":\"192.168.1.1\"\n",
    "    ,\"user_id\":\"smth@gmal.com\"\n",
    "}\n",
    "\n",
    "headers={\n",
    "    \"accept\":\"application.json\"\n",
    "}\n",
    "\n",
    "response=requests.post(url=url,headers=headers,params=params)\n",
    "\n",
    "response.json()"
   ]
  },
  {
   "cell_type": "code",
   "execution_count": null,
   "id": "b41ebc64",
   "metadata": {},
   "outputs": [],
   "source": []
  }
 ],
 "metadata": {
  "kernelspec": {
   "display_name": "Python 3",
   "language": "python",
   "name": "python3"
  },
  "language_info": {
   "codemirror_mode": {
    "name": "ipython",
    "version": 3
   },
   "file_extension": ".py",
   "mimetype": "text/x-python",
   "name": "python",
   "nbconvert_exporter": "python",
   "pygments_lexer": "ipython3",
   "version": "3.11.9"
  }
 },
 "nbformat": 4,
 "nbformat_minor": 5
}
